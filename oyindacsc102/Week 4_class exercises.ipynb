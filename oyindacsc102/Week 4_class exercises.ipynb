{
 "cells": [
  {
   "cell_type": "code",
   "execution_count": 4,
   "id": "08fbf61a",
   "metadata": {},
   "outputs": [
    {
     "name": "stdout",
     "output_type": "stream",
     "text": [
      "Enter a number to generate its pattern = 5\n",
      "1 \n",
      "1 2 \n",
      "1 2 3 \n",
      "1 2 3 4 \n",
      "1 2 3 4 5 \n"
     ]
    }
   ],
   "source": [
    "#The output pattern to be generated is \n",
    "#1\n",
    "#1 2\n",
    "#1 2 3 \n",
    "#1 2 3 4\n",
    "#1 2 3 4 5 \n",
    "num = int(input(\"Enter a number to generate its pattern = \"))\n",
    "for i in range(1,num + 1):\n",
    "    for j in range(1,i + 1):\n",
    "        print(j, end = \" \")\n",
    "    print()    "
   ]
  },
  {
   "cell_type": "code",
   "execution_count": 5,
   "id": "b04ef6da",
   "metadata": {},
   "outputs": [
    {
     "name": "stdout",
     "output_type": "stream",
     "text": [
      "2 is a prime number\n",
      "3 is a prime number\n",
      "5 is a prime number\n",
      "7 is a prime number\n",
      "11 is a prime number\n",
      "13 is a prime number\n",
      "17 is a prime number\n",
      "19 is a prime number\n",
      "23 is a prime number\n",
      "29 is a prime number\n",
      "31 is a prime number\n",
      "37 is a prime number\n",
      "41 is a prime number\n",
      "43 is a prime number\n",
      "47 is a prime number\n",
      "Bye Bye!!\n"
     ]
    }
   ],
   "source": [
    "#Use of nested loops to find the prime numbers between 2 to 50 \n",
    "\n",
    "num = 2\n",
    "for i in range(2, 50):\n",
    "    j = 2\n",
    "    while (j <=(i/2)):\n",
    "        if (i % j==0): #factor found\n",
    "            break #break out of whike loop\n",
    "        j +=1 \n",
    "    if ( j> i/j) : #no factor found\n",
    "        print( i, \"is a prime number\")\n",
    "print (\"Bye Bye!!\")"
   ]
  },
  {
   "cell_type": "code",
   "execution_count": 6,
   "id": "b3e630d7",
   "metadata": {},
   "outputs": [
    {
     "name": "stdout",
     "output_type": "stream",
     "text": [
      "Enter a number: 6\n",
      "factorial of  6  is  720\n"
     ]
    }
   ],
   "source": [
    "#The following program uses a for loop nested inside an if ..else\n",
    "#block to calculate the factorial of a given number\n",
    "num = int(input(\"Enter a number: \"))\n",
    "fact = 1\n",
    "#check if the number is negative, positive or zero\n",
    "if num <0:\n",
    "    print(\"Sorry, factorial does not exist for negative numbers\")\n",
    "elif num==0:\n",
    "    print(\"The factorial of 0 is 1\")\n",
    "else:\n",
    "    for i in range(1, num+1):\n",
    "        fact = fact*i\n",
    "    print(\"factorial of \", num,\" is \", fact)"
   ]
  },
  {
   "cell_type": "code",
   "execution_count": 8,
   "id": "5dbc3a72",
   "metadata": {},
   "outputs": [
    {
     "name": "stdout",
     "output_type": "stream",
     "text": [
      "Enter the number to be checked: 8\n",
      "8 is not a prime number\n"
     ]
    }
   ],
   "source": [
    "#Write a python program to check if a given number is prime or not .\n",
    "num = int(input(\"Enter the number to be checked: \"))\n",
    "flag = 0 #presume num is a prime number\n",
    "if num > 1:\n",
    "    for i in range (2, int(num /2)):\n",
    "        if(num % i == 0):\n",
    "            flag = 1 #num is not a prime number\n",
    "            break #no need check any further\n",
    "    if flag == 1:\n",
    "                print(num ,\"is not a prime number\")\n",
    "    else:\n",
    "                print(num,\"is a prime number\")\n",
    "else:\n",
    "    print(\"Entered number is <= 1, execute again!\")"
   ]
  },
  {
   "cell_type": "code",
   "execution_count": null,
   "id": "f3976379",
   "metadata": {},
   "outputs": [],
   "source": []
  }
 ],
 "metadata": {
  "kernelspec": {
   "display_name": "Python 3 (ipykernel)",
   "language": "python",
   "name": "python3"
  },
  "language_info": {
   "codemirror_mode": {
    "name": "ipython",
    "version": 3
   },
   "file_extension": ".py",
   "mimetype": "text/x-python",
   "name": "python",
   "nbconvert_exporter": "python",
   "pygments_lexer": "ipython3",
   "version": "3.9.7"
  }
 },
 "nbformat": 4,
 "nbformat_minor": 5
}
